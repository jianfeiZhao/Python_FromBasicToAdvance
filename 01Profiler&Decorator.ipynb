{
  "nbformat": 4,
  "nbformat_minor": 0,
  "metadata": {
    "colab": {
      "name": "Programming_Lec_1.ipynb",
      "provenance": [],
      "authorship_tag": "ABX9TyNTqwfZ2NnQpJ9HH7ErVwaz",
      "include_colab_link": true
    },
    "kernelspec": {
      "name": "python3",
      "display_name": "Python 3"
    }
  },
  "cells": [
    {
      "cell_type": "markdown",
      "metadata": {
        "id": "view-in-github",
        "colab_type": "text"
      },
      "source": [
        "<a href=\"https://colab.research.google.com/github/jianfeiZhao/Python_FromBasicToAdvance/blob/master/01Profiler%26Decorator.ipynb\" target=\"_parent\"><img src=\"https://colab.research.google.com/assets/colab-badge.svg\" alt=\"Open In Colab\"/></a>"
      ]
    },
    {
      "cell_type": "markdown",
      "metadata": {
        "id": "8xHyuST4-NBS",
        "colab_type": "text"
      },
      "source": [
        "\n",
        "##Profiler & Decorator"
      ]
    },
    {
      "cell_type": "markdown",
      "metadata": {
        "id": "JvbALU2RXPpm",
        "colab_type": "text"
      },
      "source": [
        "**1. Profiler**"
      ]
    },
    {
      "cell_type": "code",
      "metadata": {
        "id": "AcWA2vhm-UK1",
        "colab_type": "code",
        "outputId": "7be3a94b-02a0-4a7b-b108-f3bb28b64d22",
        "colab": {
          "base_uri": "https://localhost:8080/",
          "height": 35
        }
      },
      "source": [
        "def is_primer(n):\n",
        "  # judge prime number\n",
        "\n",
        "  if n<2: return False\n",
        "  for i in range(2,n):  # start from 2\n",
        "    if n % i == 0: return False\n",
        "  return True\n",
        "\n",
        "# test cases\n",
        "assert not is_primer(0)\n",
        "assert not is_primer(1)\n",
        "assert is_primer(2)\n",
        "assert is_primer(5)\n",
        "assert not is_primer(10)\n",
        "assert is_primer(101)\n",
        "\n",
        "print('test cases pass')\n",
        "\n",
        "def get_primers1(n):\n",
        "  # get prime numbers from 1 to n\n",
        "  \n",
        "  results = []\n",
        "\n",
        "  for i in range(n+1):\n",
        "    if is_primer(i):\n",
        "      results.append(i)\n",
        "\n",
        "  return results"
      ],
      "execution_count": 1,
      "outputs": [
        {
          "output_type": "stream",
          "text": [
            "test cases pass\n"
          ],
          "name": "stdout"
        }
      ]
    },
    {
      "cell_type": "code",
      "metadata": {
        "id": "5O0yTRssBjI1",
        "colab_type": "code",
        "outputId": "e8459796-823f-4694-d35c-45b4eda22fc4",
        "colab": {
          "base_uri": "https://localhost:8080/",
          "height": 35
        }
      },
      "source": [
        "%prun x = get_primers1(30000)"
      ],
      "execution_count": 2,
      "outputs": [
        {
          "output_type": "stream",
          "text": [
            " "
          ],
          "name": "stdout"
        }
      ]
    },
    {
      "cell_type": "markdown",
      "metadata": {
        "id": "wsSmRlkoCXi1",
        "colab_type": "text"
      },
      "source": [
        "All the programming languages have profiler:\n",
        "\n",
        "- observe performance of each function/method.\n",
        "- observe performance of each line."
      ]
    },
    {
      "cell_type": "code",
      "metadata": {
        "id": "5Kki1AkkGC74",
        "colab_type": "code",
        "outputId": "a48a156b-8be1-45d1-e3da-a74b6aba7c29",
        "colab": {
          "base_uri": "https://localhost:8080/",
          "height": 365
        }
      },
      "source": [
        "!pip install line_profiler\n",
        "%load_ext line_profiler"
      ],
      "execution_count": 3,
      "outputs": [
        {
          "output_type": "stream",
          "text": [
            "Collecting line_profiler\n",
            "\u001b[?25l  Downloading https://files.pythonhosted.org/packages/d8/cc/4237472dd5c9a1a4079a89df7ba3d2924eed2696d68b91886743c728a9df/line_profiler-3.0.2-cp36-cp36m-manylinux2010_x86_64.whl (68kB)\n",
            "\u001b[K     |████████████████████████████████| 71kB 2.0MB/s \n",
            "\u001b[?25hRequirement already satisfied: IPython in /usr/local/lib/python3.6/dist-packages (from line_profiler) (5.5.0)\n",
            "Requirement already satisfied: setuptools>=18.5 in /usr/local/lib/python3.6/dist-packages (from IPython->line_profiler) (46.3.0)\n",
            "Requirement already satisfied: traitlets>=4.2 in /usr/local/lib/python3.6/dist-packages (from IPython->line_profiler) (4.3.3)\n",
            "Requirement already satisfied: pexpect; sys_platform != \"win32\" in /usr/local/lib/python3.6/dist-packages (from IPython->line_profiler) (4.8.0)\n",
            "Requirement already satisfied: pickleshare in /usr/local/lib/python3.6/dist-packages (from IPython->line_profiler) (0.7.5)\n",
            "Requirement already satisfied: prompt-toolkit<2.0.0,>=1.0.4 in /usr/local/lib/python3.6/dist-packages (from IPython->line_profiler) (1.0.18)\n",
            "Requirement already satisfied: decorator in /usr/local/lib/python3.6/dist-packages (from IPython->line_profiler) (4.4.2)\n",
            "Requirement already satisfied: simplegeneric>0.8 in /usr/local/lib/python3.6/dist-packages (from IPython->line_profiler) (0.8.1)\n",
            "Requirement already satisfied: pygments in /usr/local/lib/python3.6/dist-packages (from IPython->line_profiler) (2.1.3)\n",
            "Requirement already satisfied: six in /usr/local/lib/python3.6/dist-packages (from traitlets>=4.2->IPython->line_profiler) (1.12.0)\n",
            "Requirement already satisfied: ipython-genutils in /usr/local/lib/python3.6/dist-packages (from traitlets>=4.2->IPython->line_profiler) (0.2.0)\n",
            "Requirement already satisfied: ptyprocess>=0.5 in /usr/local/lib/python3.6/dist-packages (from pexpect; sys_platform != \"win32\"->IPython->line_profiler) (0.6.0)\n",
            "Requirement already satisfied: wcwidth in /usr/local/lib/python3.6/dist-packages (from prompt-toolkit<2.0.0,>=1.0.4->IPython->line_profiler) (0.1.9)\n",
            "Installing collected packages: line-profiler\n",
            "Successfully installed line-profiler-3.0.2\n"
          ],
          "name": "stdout"
        }
      ]
    },
    {
      "cell_type": "code",
      "metadata": {
        "id": "GJegAV1-GZcl",
        "colab_type": "code",
        "colab": {}
      },
      "source": [
        "%lprun -f is_primer get_primers1(10000)"
      ],
      "execution_count": 0,
      "outputs": []
    },
    {
      "cell_type": "markdown",
      "metadata": {
        "id": "PWJA3s_APH6H",
        "colab_type": "text"
      },
      "source": [
        "is_primer take 99% time, let's optimize it."
      ]
    },
    {
      "cell_type": "markdown",
      "metadata": {
        "id": "kKU7ZlS7LbFV",
        "colab_type": "text"
      },
      "source": [
        "**Version 2**"
      ]
    },
    {
      "cell_type": "code",
      "metadata": {
        "id": "szbIzITOKYYD",
        "colab_type": "code",
        "outputId": "f1d0b601-b072-48a4-c11d-7ed31a900bd6",
        "colab": {
          "base_uri": "https://localhost:8080/",
          "height": 35
        }
      },
      "source": [
        "def is_primer2(n):\n",
        "  # judge prime number\n",
        "  \n",
        "  if n<2: return False\n",
        "\n",
        "  root = int(n**0.5) + 1\n",
        "\n",
        "  for i in range(2,root):  # start from 2\n",
        "    if n % i == 0: return False\n",
        "  return True\n",
        "\n",
        "# test cases\n",
        "assert not is_primer2(0)\n",
        "assert not is_primer2(1)\n",
        "assert is_primer2(2)\n",
        "assert is_primer2(5)\n",
        "assert not is_primer2(10)\n",
        "assert is_primer2(101)\n",
        "\n",
        "print('test cases pass')\n",
        "\n",
        "def get_primers2(n):\n",
        "  # get prime numbers from 1 to n\n",
        "  \n",
        "  results = []\n",
        "\n",
        "  for i in range(n+1):\n",
        "    if is_primer2(i):\n",
        "      results.append(i)\n",
        "\n",
        "  return results"
      ],
      "execution_count": 5,
      "outputs": [
        {
          "output_type": "stream",
          "text": [
            "test cases pass\n"
          ],
          "name": "stdout"
        }
      ]
    },
    {
      "cell_type": "code",
      "metadata": {
        "id": "CFBYt9XNNgkX",
        "colab_type": "code",
        "outputId": "c75cf259-e0ea-4a02-c646-c3fcc870749b",
        "colab": {
          "base_uri": "https://localhost:8080/",
          "height": 90
        }
      },
      "source": [
        "%time x1 = get_primers1(20000)\n",
        "%time x2 = get_primers2(20000)"
      ],
      "execution_count": 6,
      "outputs": [
        {
          "output_type": "stream",
          "text": [
            "CPU times: user 1.51 s, sys: 2.95 ms, total: 1.51 s\n",
            "Wall time: 1.51 s\n",
            "CPU times: user 26.8 ms, sys: 0 ns, total: 26.8 ms\n",
            "Wall time: 26.7 ms\n"
          ],
          "name": "stdout"
        }
      ]
    },
    {
      "cell_type": "code",
      "metadata": {
        "id": "2npeqi5FOsv3",
        "colab_type": "code",
        "colab": {}
      },
      "source": [
        "%lprun -f is_primer2 get_primers2(10000)"
      ],
      "execution_count": 0,
      "outputs": []
    },
    {
      "cell_type": "markdown",
      "metadata": {
        "id": "Ia-irS5MPzeG",
        "colab_type": "text"
      },
      "source": [
        "It seems better now, but is_primer also take 88% time, can we further optimize it?\n",
        "\n",
        "Idea: 1/2 + 1/3 + 1/5 = 21/30 numbers in the world can be divided evenly by 2/3/5."
      ]
    },
    {
      "cell_type": "markdown",
      "metadata": {
        "id": "ssKaujn8Qf-J",
        "colab_type": "text"
      },
      "source": [
        "**Version 3**"
      ]
    },
    {
      "cell_type": "code",
      "metadata": {
        "id": "Ix6pKctfPxFz",
        "colab_type": "code",
        "outputId": "6718a9ed-03a0-45c3-bbf8-3276655074be",
        "colab": {
          "base_uri": "https://localhost:8080/",
          "height": 35
        }
      },
      "source": [
        "def is_primer3(n):\n",
        "  # judge prime number\n",
        "  \n",
        "  if n < 2: return False\n",
        "\n",
        "  if n != 2 and n % 2 == 0: return False\n",
        "  if n != 3 and n % 3 == 0: return False\n",
        "  if n != 5 and n % 5 == 0: return False\n",
        "\n",
        "  root = int(n**0.5) + 1\n",
        "\n",
        "  for i in range(7,root):  # start from 2\n",
        "    if n % i == 0: return False\n",
        "  return True\n",
        "\n",
        "# test cases\n",
        "assert not is_primer3(0)\n",
        "assert not is_primer3(1)\n",
        "assert is_primer3(2)\n",
        "assert is_primer3(5)\n",
        "assert not is_primer3(10)\n",
        "assert is_primer3(101)\n",
        "\n",
        "print('test cases pass')\n",
        "\n",
        "def get_primers3(n):\n",
        "  # get prime numbers from 1 to n\n",
        "  \n",
        "  results = []\n",
        "\n",
        "  for i in range(n+1):\n",
        "    if is_primer3(i):\n",
        "      results.append(i)\n",
        "\n",
        "  return results"
      ],
      "execution_count": 8,
      "outputs": [
        {
          "output_type": "stream",
          "text": [
            "test cases pass\n"
          ],
          "name": "stdout"
        }
      ]
    },
    {
      "cell_type": "code",
      "metadata": {
        "id": "5I70-zGGUAFx",
        "colab_type": "code",
        "outputId": "aa43159d-3542-433a-9175-385e4483cbb5",
        "colab": {
          "base_uri": "https://localhost:8080/",
          "height": 90
        }
      },
      "source": [
        "%time x1 = get_primers2(80000)\n",
        "%time x2 = get_primers3(80000)"
      ],
      "execution_count": 9,
      "outputs": [
        {
          "output_type": "stream",
          "text": [
            "CPU times: user 152 ms, sys: 2.03 ms, total: 154 ms\n",
            "Wall time: 156 ms\n",
            "CPU times: user 115 ms, sys: 1.94 ms, total: 117 ms\n",
            "Wall time: 117 ms\n"
          ],
          "name": "stdout"
        }
      ]
    },
    {
      "cell_type": "code",
      "metadata": {
        "id": "ccMbf2TUUai2",
        "colab_type": "code",
        "colab": {}
      },
      "source": [
        "%lprun -f is_primer3 get_primers3(30000)"
      ],
      "execution_count": 0,
      "outputs": []
    },
    {
      "cell_type": "markdown",
      "metadata": {
        "id": "3oVxcU-HXnwK",
        "colab_type": "text"
      },
      "source": [
        "Now it seems better!"
      ]
    },
    {
      "cell_type": "markdown",
      "metadata": {
        "id": "VjWNTGqaXs0c",
        "colab_type": "text"
      },
      "source": [
        "**2. Decorator**\n",
        "\n",
        "   Function-oriented: let functions to be the variables"
      ]
    },
    {
      "cell_type": "code",
      "metadata": {
        "id": "32sGfwSYX3Rb",
        "colab_type": "code",
        "outputId": "0309b636-e6e9-471a-96ec-d6e19634b191",
        "colab": {
          "base_uri": "https://localhost:8080/",
          "height": 126
        }
      },
      "source": [
        "def get_primers(n, is_primer_fun):\n",
        "  # get prime numbers from 1 to n\n",
        "  \n",
        "  results = []\n",
        "\n",
        "  for i in range(n+1):\n",
        "    if is_primer_fun(i):\n",
        "      results.append(i)\n",
        "\n",
        "  return results\n",
        "\n",
        "%time x1 = get_primers(30000, is_primer)\n",
        "%time x2 = get_primers(30000, is_primer2)\n",
        "%time x3 = get_primers(30000, is_primer3)\n"
      ],
      "execution_count": 22,
      "outputs": [
        {
          "output_type": "stream",
          "text": [
            "CPU times: user 3.3 s, sys: 2.91 ms, total: 3.3 s\n",
            "Wall time: 3.3 s\n",
            "CPU times: user 42.5 ms, sys: 0 ns, total: 42.5 ms\n",
            "Wall time: 42.4 ms\n",
            "CPU times: user 30.8 ms, sys: 0 ns, total: 30.8 ms\n",
            "Wall time: 30.8 ms\n"
          ],
          "name": "stdout"
        }
      ]
    },
    {
      "cell_type": "code",
      "metadata": {
        "id": "Lc8PPgYEcLLC",
        "colab_type": "code",
        "colab": {}
      },
      "source": [
        "%lprun -f is_primer3 get_primers(60000, is_primer3)"
      ],
      "execution_count": 0,
      "outputs": []
    },
    {
      "cell_type": "code",
      "metadata": {
        "id": "iyLYvIEYm8Tz",
        "colab_type": "code",
        "colab": {}
      },
      "source": [
        "import time\n",
        "from functools import wraps\n",
        "\n",
        "cache = {}       # store the variables already used\n",
        "def get_time(func):\n",
        "  \"my name is _time function\"\n",
        "\n",
        "  global cache\n",
        "\n",
        "  #@wraps(func)\n",
        "  def _time(arg1, arg2):\n",
        "    s = time.time()\n",
        "\n",
        "    if (arg1, arg2) in cache: result = cache[(arg1, arg2)]\n",
        "    else:\n",
        "      result = func(arg1, arg2)\n",
        "      cache[(arg1, arg2)] = result\n",
        "\n",
        "    print('used time: {}'.format(time.time()-s))\n",
        "    return result\n",
        "  \n",
        "  return _time"
      ],
      "execution_count": 0,
      "outputs": []
    },
    {
      "cell_type": "code",
      "metadata": {
        "id": "Sclvz_xCnggB",
        "colab_type": "code",
        "colab": {
          "base_uri": "https://localhost:8080/",
          "height": 53
        },
        "outputId": "442d43d8-9cae-418e-96ef-914bf0c67f98"
      },
      "source": [
        "@get_time        # exactly ==> get_primes_f = get_time(get_primes_f)\n",
        "def get_primers_with_decorator(n, is_primer_fun):\n",
        "  \"get prime numbers from 1 to n\"\n",
        "  \n",
        "  results = []\n",
        "\n",
        "  for i in range(n+1):\n",
        "    if is_primer_fun(i):\n",
        "      results.append(i)\n",
        "\n",
        "  return results\n",
        "\n",
        "t1 = get_primers_with_decorator(80000, is_primer3)\n",
        "t2 = get_primers_with_decorator(160000, is_primer3)"
      ],
      "execution_count": 67,
      "outputs": [
        {
          "output_type": "stream",
          "text": [
            "used time: 3.0994415283203125e-06\n",
            "used time: 1.430511474609375e-06\n"
          ],
          "name": "stdout"
        }
      ]
    },
    {
      "cell_type": "code",
      "metadata": {
        "id": "I0rPQYlf1DJ-",
        "colab_type": "code",
        "colab": {}
      },
      "source": [
        ""
      ],
      "execution_count": 0,
      "outputs": []
    }
  ]
}