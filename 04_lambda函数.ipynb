{
  "nbformat": 4,
  "nbformat_minor": 0,
  "metadata": {
    "colab": {
      "name": "lambda.ipynb",
      "provenance": [],
      "authorship_tag": "ABX9TyNi+mH20iTQ7Pov+6DlJgzF",
      "include_colab_link": true
    },
    "kernelspec": {
      "name": "python3",
      "display_name": "Python 3"
    }
  },
  "cells": [
    {
      "cell_type": "markdown",
      "metadata": {
        "id": "view-in-github",
        "colab_type": "text"
      },
      "source": [
        "<a href=\"https://colab.research.google.com/github/jianfeiZhao/Python_FromBasicToAdvance/blob/master/lambda.ipynb\" target=\"_parent\"><img src=\"https://colab.research.google.com/assets/colab-badge.svg\" alt=\"Open In Colab\"/></a>"
      ]
    },
    {
      "cell_type": "markdown",
      "metadata": {
        "id": "dtbOWnr1GZSM",
        "colab_type": "text"
      },
      "source": [
        "Lambda function in python"
      ]
    },
    {
      "cell_type": "code",
      "metadata": {
        "id": "-m-9sHaPGD-N",
        "colab_type": "code",
        "colab": {
          "base_uri": "https://localhost:8080/",
          "height": 53
        },
        "outputId": "588821f5-8d3f-431d-f124-8f109f55d853"
      },
      "source": [
        "#0.一行函数\n",
        "c = lambda x,y,z: x*y*z\n",
        "print([c(2,3,4), c(-3.5,6,1)])\n",
        "\n",
        "print((lambda x,y,z: x*y*z)(2,3,4)) "
      ],
      "execution_count": 27,
      "outputs": [
        {
          "output_type": "stream",
          "text": [
            "[24, -21.0]\n",
            "24\n"
          ],
          "name": "stdout"
        }
      ]
    },
    {
      "cell_type": "code",
      "metadata": {
        "id": "nthoJSSdGxom",
        "colab_type": "code",
        "colab": {
          "base_uri": "https://localhost:8080/",
          "height": 72
        },
        "outputId": "eb0af223-3495-4da5-98c6-af6cc8b6c430"
      },
      "source": [
        "#1.函数式编程:\n",
        "\n",
        "a = [('b',3),('a',-2),('d',4),('c',1)]\n",
        "print('按第一个元素排序:',sorted(a, key=lambda x:x[0]))\n",
        "print('按第二个元素排序:',sorted(a, key=lambda x:x[1]))\n",
        "print('按第二个元素的绝对值降序排序:',sorted(a, key=lambda x:abs(x[1]), reverse=True))"
      ],
      "execution_count": 25,
      "outputs": [
        {
          "output_type": "stream",
          "text": [
            "按第一个元素排序: [('a', -2), ('b', 3), ('c', 1), ('d', 4)]\n",
            "按第二个元素排序: [('a', -2), ('c', 1), ('b', 3), ('d', 4)]\n",
            "按第二个元素的绝对值降序排序: [('d', 4), ('b', 3), ('a', -2), ('c', 1)]\n"
          ],
          "name": "stdout"
        }
      ]
    },
    {
      "cell_type": "code",
      "metadata": {
        "id": "2iQH8FG2JAwu",
        "colab_type": "code",
        "colab": {
          "base_uri": "https://localhost:8080/",
          "height": 35
        },
        "outputId": "691c1991-4354-4830-a7c7-987970b363ba"
      },
      "source": [
        "# 嵌套\n",
        "def increment(n):\n",
        "    return lambda x:x+n\n",
        "\n",
        "f=increment(4)\n",
        "print([f(2), f(5)])"
      ],
      "execution_count": 29,
      "outputs": [
        {
          "output_type": "stream",
          "text": [
            "[6, 9]\n"
          ],
          "name": "stdout"
        }
      ]
    },
    {
      "cell_type": "code",
      "metadata": {
        "id": "Fdk1gd8lxwf9",
        "colab_type": "code",
        "colab": {
          "base_uri": "https://localhost:8080/",
          "height": 90
        },
        "outputId": "1b6ae832-d227-432c-bfb2-e9ad87b9a43c"
      },
      "source": [
        "#2.Python中最常见的filter筛选、map小刷子、reduce合并，都可以用lambda表达式来生成！\n",
        "\n",
        "# 求两个列表元素的和\n",
        "a = [1,2,3,4]\n",
        "b = [5,6,7,8]\n",
        "print(list(map(lambda x,y: x+y, a, b)))\n",
        "\n",
        "# 求字符串每个单词的长度\n",
        "sentence = \"Welcome To Beijing!\"\n",
        "words = sentence.split()\n",
        "print(list(map(lambda x:len(x), words)))\n",
        "\n",
        "# 求1~20之间的偶数\n",
        "print(list(filter(lambda x:x%2 == 0, range(1,21))))\n",
        "'''filter(function,sequence)：对sequence中的item依次执行function(item)，\n",
        "将执行结果为True的item组成一个List/String/Tuple(取决于sequence的类型)返回。'''\n",
        "\n",
        "# 判断字符串是否以某个字母开头\n",
        "Names = ['Anne', 'Amy', 'Bob', 'David', 'Carrie', 'Barbara', 'Zach']\n",
        "B_Name= filter(lambda x: x.startswith('B'), Names)\n",
        "print(list(B_Name))"
      ],
      "execution_count": 45,
      "outputs": [
        {
          "output_type": "stream",
          "text": [
            "[6, 8, 10, 12]\n",
            "[7, 2, 8]\n",
            "[2, 4, 6, 8, 10, 12, 14, 16, 18, 20]\n",
            "['Bob', 'Barbara']\n"
          ],
          "name": "stdout"
        }
      ]
    },
    {
      "cell_type": "code",
      "metadata": {
        "id": "cmWDtEPwCT6b",
        "colab_type": "code",
        "colab": {
          "base_uri": "https://localhost:8080/",
          "height": 53
        },
        "outputId": "bb706219-4fde-4411-bb2d-bdf11704271a"
      },
      "source": [
        "# 求1~100之和\n",
        "from functools import reduce       \n",
        "sum = reduce(lambda x,y:x+y,range(1,101))  \n",
        "'''reduce(function,sequence)：function接收的参数个数只能为2，先把sequence中第一个值和第二个值当参数传给function，\n",
        "再把function的返回值和第三个值当参数传给function，然后只返回一个结果。'''\n",
        "print(sum)\n",
        "\n",
        "# 求1~100之和，再加上10000\n",
        "reduce(lambda x,y:x+y,range(1,101),10000)"
      ],
      "execution_count": 15,
      "outputs": [
        {
          "output_type": "stream",
          "text": [
            "5050\n"
          ],
          "name": "stdout"
        },
        {
          "output_type": "execute_result",
          "data": {
            "text/plain": [
              "15050"
            ]
          },
          "metadata": {
            "tags": []
          },
          "execution_count": 15
        }
      ]
    },
    {
      "cell_type": "code",
      "metadata": {
        "id": "p-nrxc3aCdl8",
        "colab_type": "code",
        "colab": {}
      },
      "source": [
        ""
      ],
      "execution_count": 0,
      "outputs": []
    }
  ]
}
