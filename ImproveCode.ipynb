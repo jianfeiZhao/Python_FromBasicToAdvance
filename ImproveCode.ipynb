{
  "nbformat": 4,
  "nbformat_minor": 0,
  "metadata": {
    "colab": {
      "name": "ImproveCode.ipynb",
      "provenance": [],
      "authorship_tag": "ABX9TyOmUoP7Lx7deaxqwU1zYKma",
      "include_colab_link": true
    },
    "kernelspec": {
      "name": "python3",
      "display_name": "Python 3"
    }
  },
  "cells": [
    {
      "cell_type": "markdown",
      "metadata": {
        "id": "view-in-github",
        "colab_type": "text"
      },
      "source": [
        "<a href=\"https://colab.research.google.com/github/jianfeiZhao/Python_FromBasicToAdvance/blob/master/ImproveCode.ipynb\" target=\"_parent\"><img src=\"https://colab.research.google.com/assets/colab-badge.svg\" alt=\"Open In Colab\"/></a>"
      ]
    },
    {
      "cell_type": "code",
      "metadata": {
        "id": "pI08wJgPD3Ns",
        "colab_type": "code",
        "colab": {
          "base_uri": "https://localhost:8080/",
          "height": 35
        },
        "outputId": "d5bf4574-3650-41c1-aac5-aba35453faa5"
      },
      "source": [
        "ls = []\n",
        "\n",
        "for x in range(6):\n",
        "  y=x if x>=3 else -x     ###\n",
        "  ls.append(y)\n",
        "\n",
        "print(ls)"
      ],
      "execution_count": 28,
      "outputs": [
        {
          "output_type": "stream",
          "text": [
            "[0, -1, -2, 3, 4, 5]\n"
          ],
          "name": "stdout"
        }
      ]
    },
    {
      "cell_type": "code",
      "metadata": {
        "id": "ONoZpfotLHZM",
        "colab_type": "code",
        "colab": {
          "base_uri": "https://localhost:8080/",
          "height": 35
        },
        "outputId": "f48af7d1-f034-4f62-8e7c-257243e3229d"
      },
      "source": [
        "ls = [1,2,'3',4,5.0,[6]]\n",
        "\n",
        "sum([i for i in ls if type(i) in [int,float]])  # filter and sum"
      ],
      "execution_count": 22,
      "outputs": [
        {
          "output_type": "execute_result",
          "data": {
            "text/plain": [
              "12.0"
            ]
          },
          "metadata": {
            "tags": []
          },
          "execution_count": 22
        }
      ]
    },
    {
      "cell_type": "code",
      "metadata": {
        "id": "cikBpZSCESpr",
        "colab_type": "code",
        "colab": {
          "base_uri": "https://localhost:8080/",
          "height": 53
        },
        "outputId": "ef787dbd-7913-4f43-8778-5b5f1f53c756"
      },
      "source": [
        "level = input('choose from [A ~ Z] >> ')\n",
        "\n",
        "if level in ('A','D','F'):    ###\n",
        "  print('pass')\n",
        "else:\n",
        "  print('not pass!')"
      ],
      "execution_count": 7,
      "outputs": [
        {
          "output_type": "stream",
          "text": [
            "choose from [A ~ Z] >> R\n",
            "not pass!\n"
          ],
          "name": "stdout"
        }
      ]
    },
    {
      "cell_type": "code",
      "metadata": {
        "id": "qTF5xSW0GLkX",
        "colab_type": "code",
        "colab": {
          "base_uri": "https://localhost:8080/",
          "height": 35
        },
        "outputId": "1190095e-0620-4241-c46e-b2edd4865c07"
      },
      "source": [
        "ls, dic, st = [1,2], {}, ''\n",
        "\n",
        "if not ls:            ### not not empty\n",
        "  ls.append(1)\n",
        "if not dic:\n",
        "  dic['1'] = 1\n",
        "if not st:\n",
        "  st += '1'\n",
        "\n",
        "print(ls, dic, st)"
      ],
      "execution_count": 12,
      "outputs": [
        {
          "output_type": "stream",
          "text": [
            "[1, 2] {'1': 1} 1\n"
          ],
          "name": "stdout"
        }
      ]
    },
    {
      "cell_type": "code",
      "metadata": {
        "id": "q2-jx02SH192",
        "colab_type": "code",
        "colab": {
          "base_uri": "https://localhost:8080/",
          "height": 35
        },
        "outputId": "4818c16b-7a52-49df-dc6b-04091b48ee54"
      },
      "source": [
        "A,B,C,D,E = [i for i in range(5)]\n",
        "\n",
        "if any([A>3,B>3,C>3,D>3,E>3]):    ### or -> any; and -> all\n",
        "  print('any pass')\n",
        "  \n",
        "if all([A>3,B>3,C>3,D>3,E>3]):    ### or -> any; and -> all\n",
        "  print('all pass')"
      ],
      "execution_count": 19,
      "outputs": [
        {
          "output_type": "stream",
          "text": [
            "any pass\n"
          ],
          "name": "stdout"
        }
      ]
    },
    {
      "cell_type": "code",
      "metadata": {
        "id": "5mYW5MjMJZnX",
        "colab_type": "code",
        "colab": {
          "base_uri": "https://localhost:8080/",
          "height": 35
        },
        "outputId": "d4d706ad-e720-42bf-c6c4-49a4a97e1b15"
      },
      "source": [
        "seasons = ['spring', 'summer', 'autumn', 'winter']\n",
        "dic = {}\n",
        "\n",
        "for i, s in enumerate(seasons):     ###\n",
        "  dic[i] = s\n",
        "\n",
        "print(dic)"
      ],
      "execution_count": 25,
      "outputs": [
        {
          "output_type": "execute_result",
          "data": {
            "text/plain": [
              "{0: 'spring', 1: 'summer', 2: 'autumn', 3: 'winter'}"
            ]
          },
          "metadata": {
            "tags": []
          },
          "execution_count": 25
        }
      ]
    },
    {
      "cell_type": "code",
      "metadata": {
        "id": "PQ7AVX3xPIEj",
        "colab_type": "code",
        "colab": {}
      },
      "source": [
        ""
      ],
      "execution_count": 0,
      "outputs": []
    }
  ]
}